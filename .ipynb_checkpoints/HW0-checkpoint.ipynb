{
 "cells": [
  {
   "cell_type": "code",
   "execution_count": 1,
   "metadata": {
    "collapsed": true,
    "deletable": true,
    "editable": true
   },
   "outputs": [],
   "source": [
    "%gui qt\n"
   ]
  },
  {
   "cell_type": "code",
   "execution_count": 2,
   "metadata": {
    "collapsed": false,
    "deletable": true,
    "editable": true
   },
   "outputs": [
    {
     "name": "stderr",
     "output_type": "stream",
     "text": [
      "/Users/amarshah/miniconda2/lib/python2.7/site-packages/matplotlib/font_manager.py:273: UserWarning: Matplotlib is building the font cache using fc-list. This may take a moment.\n",
      "  warnings.warn('Matplotlib is building the font cache using fc-list. This may take a moment.')\n"
     ]
    }
   ],
   "source": [
    "import vtk\n",
    "from IPython.display import Image\n",
    "import pcl\n",
    "import numpy as np\n",
    "import matplotlib.pyplot as plt\n",
    "import os\n",
    "from vtk_visualizer import *\n",
    "vtkControl = VTKVisualizerControl()\n",
    "\n",
    "csv = open('final_project_data/final_project_point_cloud.fuse', 'rb')\n",
    "\n",
    "# Generate 1000 random points\n",
    "xyz = np.random.rand(1000,3)*100.0\n",
    " \n",
    "vtkControl.AddPointCloudActor(xyz)\n",
    " \n",
    "# For visualizing points with normals as shaded points:\n",
    "# vtkControl.AddShadedPointsActor(....)\n",
    " \n",
    "# For visualizing points with normals as \"hedge hodgs\":\n",
    "# vtkControl.AddHedgeHogActor(....)\n",
    " \n",
    "# Render the 3D data (after all components have been added)\n",
    "vtkControl.Render()\n",
    " \n",
    "# Reset the camera position/orientation to fit with the data\n",
    "vtkControl.ResetCamera()\n",
    "\n",
    "vtkControl.AddSphere((0,0,0), 5.0)\n",
    " \n",
    "# Set color to blue\n",
    "nID = vtkControl.GetLastActorID()\n",
    "vtkControl.SetActorColor(nID,(0,0,1))"
   ]
  },
  {
   "cell_type": "code",
   "execution_count": null,
   "metadata": {
    "collapsed": false,
    "deletable": true,
    "editable": true
   },
   "outputs": [],
   "source": []
  },
  {
   "cell_type": "code",
   "execution_count": 3,
   "metadata": {
    "collapsed": true,
    "deletable": true,
    "editable": true
   },
   "outputs": [],
   "source": [
    "%gui qt"
   ]
  },
  {
   "cell_type": "code",
   "execution_count": null,
   "metadata": {
    "collapsed": true,
    "deletable": true,
    "editable": true
   },
   "outputs": [],
   "source": []
  }
 ],
 "metadata": {
  "kernelspec": {
   "display_name": "Python 2",
   "language": "python",
   "name": "python2"
  },
  "language_info": {
   "codemirror_mode": {
    "name": "ipython",
    "version": 2
   },
   "file_extension": ".py",
   "mimetype": "text/x-python",
   "name": "python",
   "nbconvert_exporter": "python",
   "pygments_lexer": "ipython2",
   "version": "2.7.12"
  }
 },
 "nbformat": 4,
 "nbformat_minor": 0
}
